{
 "cells": [
  {
   "cell_type": "code",
   "execution_count": 14,
   "metadata": {},
   "outputs": [],
   "source": [
    "# Dependencies\n",
    "import requests\n",
    "import time\n",
    "import os\n",
    "import pandas as pd\n",
    "import json"
   ]
  },
  {
   "cell_type": "code",
   "execution_count": 29,
   "metadata": {},
   "outputs": [],
   "source": [
    "# Built this function to turn the data read in by the NYT data into lists objects.\n",
    "def listify(l) : \n",
    "    l = l.replace('[','')\n",
    "    l = l.replace(']','')\n",
    "    return l.split('|')\n",
    "\n",
    "def get_top5(df) : \n",
    "\n",
    "    # expand the keywords list to individual rows, then take the value counts\n",
    "    top3 = df.explode(\"keywords\").value_counts(\"keywords\").head(6)\n",
    "\n",
    "    # Dropping the top row because it will always be \"United States Economy\"\n",
    "    top3.drop(top3.index[0],inplace=True) \n",
    "\n",
    "    return top3\n"
   ]
  },
  {
   "cell_type": "code",
   "execution_count": 30,
   "metadata": {},
   "outputs": [
    {
     "name": "stdout",
     "output_type": "stream",
     "text": [
      "<class 'pandas.core.frame.DataFrame'>\n",
      "RangeIndex: 1258 entries, 0 to 1257\n",
      "Data columns (total 7 columns):\n",
      " #   Column     Non-Null Count  Dtype         \n",
      "---  ------     --------------  -----         \n",
      " 0   Date       1258 non-null   datetime64[ns]\n",
      " 1   Open       1258 non-null   float64       \n",
      " 2   High       1258 non-null   float64       \n",
      " 3   Low        1258 non-null   float64       \n",
      " 4   Close      1258 non-null   float64       \n",
      " 5   Adj Close  1258 non-null   float64       \n",
      " 6   Volume     1258 non-null   int64         \n",
      "dtypes: datetime64[ns](1), float64(5), int64(1)\n",
      "memory usage: 68.9 KB\n"
     ]
    },
    {
     "data": {
      "text/plain": [
       "None"
      ]
     },
     "metadata": {},
     "output_type": "display_data"
    },
    {
     "data": {
      "text/html": [
       "<div>\n",
       "<style scoped>\n",
       "    .dataframe tbody tr th:only-of-type {\n",
       "        vertical-align: middle;\n",
       "    }\n",
       "\n",
       "    .dataframe tbody tr th {\n",
       "        vertical-align: top;\n",
       "    }\n",
       "\n",
       "    .dataframe thead th {\n",
       "        text-align: right;\n",
       "    }\n",
       "</style>\n",
       "<table border=\"1\" class=\"dataframe\">\n",
       "  <thead>\n",
       "    <tr style=\"text-align: right;\">\n",
       "      <th></th>\n",
       "      <th>Date</th>\n",
       "      <th>Open</th>\n",
       "      <th>High</th>\n",
       "      <th>Low</th>\n",
       "      <th>Close</th>\n",
       "      <th>Adj Close</th>\n",
       "      <th>Volume</th>\n",
       "    </tr>\n",
       "  </thead>\n",
       "  <tbody>\n",
       "    <tr>\n",
       "      <th>0</th>\n",
       "      <td>2019-04-11</td>\n",
       "      <td>7621.399902</td>\n",
       "      <td>7621.399902</td>\n",
       "      <td>7580.709961</td>\n",
       "      <td>7594.890137</td>\n",
       "      <td>7594.890137</td>\n",
       "      <td>1969480000</td>\n",
       "    </tr>\n",
       "  </tbody>\n",
       "</table>\n",
       "</div>"
      ],
      "text/plain": [
       "        Date         Open         High          Low        Close    Adj Close  \\\n",
       "0 2019-04-11  7621.399902  7621.399902  7580.709961  7594.890137  7594.890137   \n",
       "\n",
       "       Volume  \n",
       "0  1969480000  "
      ]
     },
     "metadata": {},
     "output_type": "display_data"
    }
   ],
   "source": [
    "# Read in the NASDAQ data\n",
    "ndx_df = pd.read_csv(\"data/NDX.csv\", parse_dates=[\"Date\"], date_format=\"%Y-%m-%d\")\n",
    "display(ndx_df.info())\n",
    "display(ndx_df.head(1))"
   ]
  },
  {
   "cell_type": "code",
   "execution_count": 17,
   "metadata": {},
   "outputs": [
    {
     "name": "stdout",
     "output_type": "stream",
     "text": [
      "<class 'pandas.core.frame.DataFrame'>\n",
      "RangeIndex: 230 entries, 0 to 229\n",
      "Data columns (total 3 columns):\n",
      " #   Column    Non-Null Count  Dtype \n",
      "---  ------    --------------  ----- \n",
      " 0   datetime  230 non-null    object\n",
      " 1   headline  230 non-null    object\n",
      " 2   keywords  230 non-null    object\n",
      "dtypes: object(3)\n",
      "memory usage: 5.5+ KB\n"
     ]
    },
    {
     "data": {
      "text/plain": [
       "None"
      ]
     },
     "metadata": {},
     "output_type": "display_data"
    },
    {
     "data": {
      "text/html": [
       "<div>\n",
       "<style scoped>\n",
       "    .dataframe tbody tr th:only-of-type {\n",
       "        vertical-align: middle;\n",
       "    }\n",
       "\n",
       "    .dataframe tbody tr th {\n",
       "        vertical-align: top;\n",
       "    }\n",
       "\n",
       "    .dataframe thead th {\n",
       "        text-align: right;\n",
       "    }\n",
       "</style>\n",
       "<table border=\"1\" class=\"dataframe\">\n",
       "  <thead>\n",
       "    <tr style=\"text-align: right;\">\n",
       "      <th></th>\n",
       "      <th>datetime</th>\n",
       "      <th>headline</th>\n",
       "      <th>keywords</th>\n",
       "    </tr>\n",
       "  </thead>\n",
       "  <tbody>\n",
       "    <tr>\n",
       "      <th>0</th>\n",
       "      <td>2019-08-17T10:27:08+0000</td>\n",
       "      <td>Is a New Recession Imminent? Here’s How One Co...</td>\n",
       "      <td>[United States Economy, Recession and Depressi...</td>\n",
       "    </tr>\n",
       "    <tr>\n",
       "      <th>1</th>\n",
       "      <td>2019-01-17T00:15:01+0000</td>\n",
       "      <td>In Small Towns, Shutdown Has Ripple Effects</td>\n",
       "      <td>[United States Politics and Government, Govern...</td>\n",
       "    </tr>\n",
       "    <tr>\n",
       "      <th>2</th>\n",
       "      <td>2019-08-01T17:44:59+0000</td>\n",
       "      <td>Trump Escalates Fight Over Trade With the Chinese</td>\n",
       "      <td>[Customs (Tariff), International Trade and Wor...</td>\n",
       "    </tr>\n",
       "    <tr>\n",
       "      <th>3</th>\n",
       "      <td>2019-10-10T09:00:14+0000</td>\n",
       "      <td>A Steady Paycheck Is Good Medicine for Communi...</td>\n",
       "      <td>[Labor and Jobs, Income Inequality, Gangs, Urb...</td>\n",
       "    </tr>\n",
       "    <tr>\n",
       "      <th>4</th>\n",
       "      <td>2019-03-15T19:34:32+0000</td>\n",
       "      <td>Capitalism Needs Elizabeth Warren</td>\n",
       "      <td>[United States Economy, Income Inequality, Pre...</td>\n",
       "    </tr>\n",
       "  </tbody>\n",
       "</table>\n",
       "</div>"
      ],
      "text/plain": [
       "                   datetime  \\\n",
       "0  2019-08-17T10:27:08+0000   \n",
       "1  2019-01-17T00:15:01+0000   \n",
       "2  2019-08-01T17:44:59+0000   \n",
       "3  2019-10-10T09:00:14+0000   \n",
       "4  2019-03-15T19:34:32+0000   \n",
       "\n",
       "                                            headline  \\\n",
       "0  Is a New Recession Imminent? Here’s How One Co...   \n",
       "1        In Small Towns, Shutdown Has Ripple Effects   \n",
       "2  Trump Escalates Fight Over Trade With the Chinese   \n",
       "3  A Steady Paycheck Is Good Medicine for Communi...   \n",
       "4                  Capitalism Needs Elizabeth Warren   \n",
       "\n",
       "                                            keywords  \n",
       "0  [United States Economy, Recession and Depressi...  \n",
       "1  [United States Politics and Government, Govern...  \n",
       "2  [Customs (Tariff), International Trade and Wor...  \n",
       "3  [Labor and Jobs, Income Inequality, Gangs, Urb...  \n",
       "4  [United States Economy, Income Inequality, Pre...  "
      ]
     },
     "metadata": {},
     "output_type": "display_data"
    }
   ],
   "source": [
    "# Read in the 2019 US Economy Headlines\n",
    "econ_2019_df = pd.read_csv(\"data/us_economy_headlines_2019.csv\")\n",
    "econ_2019_df[\"keywords\"] = econ_2019_df[\"keywords\"].apply(listify)\n",
    "\n",
    "display(econ_2019_df.info())\n",
    "display(econ_2019_df.head())"
   ]
  },
  {
   "cell_type": "code",
   "execution_count": 18,
   "metadata": {},
   "outputs": [
    {
     "name": "stdout",
     "output_type": "stream",
     "text": [
      "<class 'pandas.core.frame.DataFrame'>\n",
      "RangeIndex: 400 entries, 0 to 399\n",
      "Data columns (total 3 columns):\n",
      " #   Column    Non-Null Count  Dtype \n",
      "---  ------    --------------  ----- \n",
      " 0   datetime  400 non-null    object\n",
      " 1   headline  400 non-null    object\n",
      " 2   keywords  400 non-null    object\n",
      "dtypes: object(3)\n",
      "memory usage: 9.5+ KB\n"
     ]
    },
    {
     "data": {
      "text/plain": [
       "None"
      ]
     },
     "metadata": {},
     "output_type": "display_data"
    },
    {
     "data": {
      "text/html": [
       "<div>\n",
       "<style scoped>\n",
       "    .dataframe tbody tr th:only-of-type {\n",
       "        vertical-align: middle;\n",
       "    }\n",
       "\n",
       "    .dataframe tbody tr th {\n",
       "        vertical-align: top;\n",
       "    }\n",
       "\n",
       "    .dataframe thead th {\n",
       "        text-align: right;\n",
       "    }\n",
       "</style>\n",
       "<table border=\"1\" class=\"dataframe\">\n",
       "  <thead>\n",
       "    <tr style=\"text-align: right;\">\n",
       "      <th></th>\n",
       "      <th>datetime</th>\n",
       "      <th>headline</th>\n",
       "      <th>keywords</th>\n",
       "    </tr>\n",
       "  </thead>\n",
       "  <tbody>\n",
       "    <tr>\n",
       "      <th>0</th>\n",
       "      <td>2020-03-24T15:53:24+0000</td>\n",
       "      <td>Aid Deal Near as Trump Pushes to Ease Limits</td>\n",
       "      <td>[Coronavirus (2019-nCoV), Stimulus (Economic),...</td>\n",
       "    </tr>\n",
       "    <tr>\n",
       "      <th>1</th>\n",
       "      <td>2020-11-14T14:33:29+0000</td>\n",
       "      <td>Even Before Biden Takes Office, He Faces Quand...</td>\n",
       "      <td>[United States Economy, Stimulus (Economic), C...</td>\n",
       "    </tr>\n",
       "    <tr>\n",
       "      <th>2</th>\n",
       "      <td>2020-11-16T10:00:22+0000</td>\n",
       "      <td>Toxic Tussle With China Awaits Biden</td>\n",
       "      <td>[United States International Relations, Intern...</td>\n",
       "    </tr>\n",
       "    <tr>\n",
       "      <th>3</th>\n",
       "      <td>2020-08-03T19:40:23+0000</td>\n",
       "      <td>Rescue of Kansas Company Tied To White House D...</td>\n",
       "      <td>[United States Economy, Coronavirus Aid, Relie...</td>\n",
       "    </tr>\n",
       "    <tr>\n",
       "      <th>4</th>\n",
       "      <td>2020-04-09T13:07:59+0000</td>\n",
       "      <td>‘It’s Terrifying’: Millions More Out Of Work</td>\n",
       "      <td>[Coronavirus (2019-nCoV), United States Econom...</td>\n",
       "    </tr>\n",
       "  </tbody>\n",
       "</table>\n",
       "</div>"
      ],
      "text/plain": [
       "                   datetime  \\\n",
       "0  2020-03-24T15:53:24+0000   \n",
       "1  2020-11-14T14:33:29+0000   \n",
       "2  2020-11-16T10:00:22+0000   \n",
       "3  2020-08-03T19:40:23+0000   \n",
       "4  2020-04-09T13:07:59+0000   \n",
       "\n",
       "                                            headline  \\\n",
       "0       Aid Deal Near as Trump Pushes to Ease Limits   \n",
       "1  Even Before Biden Takes Office, He Faces Quand...   \n",
       "2               Toxic Tussle With China Awaits Biden   \n",
       "3  Rescue of Kansas Company Tied To White House D...   \n",
       "4       ‘It’s Terrifying’: Millions More Out Of Work   \n",
       "\n",
       "                                            keywords  \n",
       "0  [Coronavirus (2019-nCoV), Stimulus (Economic),...  \n",
       "1  [United States Economy, Stimulus (Economic), C...  \n",
       "2  [United States International Relations, Intern...  \n",
       "3  [United States Economy, Coronavirus Aid, Relie...  \n",
       "4  [Coronavirus (2019-nCoV), United States Econom...  "
      ]
     },
     "metadata": {},
     "output_type": "display_data"
    }
   ],
   "source": [
    "# Read in the 2020 US Economy Headlines\n",
    "econ_2020_df = pd.read_csv(\"data/us_economy_headlines_2020.csv\")\n",
    "econ_2020_df[\"keywords\"] = econ_2020_df[\"keywords\"].apply(listify)\n",
    "\n",
    "display(econ_2020_df.info())\n",
    "display(econ_2020_df.head())"
   ]
  },
  {
   "cell_type": "code",
   "execution_count": 19,
   "metadata": {},
   "outputs": [
    {
     "name": "stdout",
     "output_type": "stream",
     "text": [
      "<class 'pandas.core.frame.DataFrame'>\n",
      "RangeIndex: 367 entries, 0 to 366\n",
      "Data columns (total 3 columns):\n",
      " #   Column    Non-Null Count  Dtype \n",
      "---  ------    --------------  ----- \n",
      " 0   datetime  367 non-null    object\n",
      " 1   headline  367 non-null    object\n",
      " 2   keywords  367 non-null    object\n",
      "dtypes: object(3)\n",
      "memory usage: 8.7+ KB\n"
     ]
    },
    {
     "data": {
      "text/plain": [
       "None"
      ]
     },
     "metadata": {},
     "output_type": "display_data"
    },
    {
     "data": {
      "text/html": [
       "<div>\n",
       "<style scoped>\n",
       "    .dataframe tbody tr th:only-of-type {\n",
       "        vertical-align: middle;\n",
       "    }\n",
       "\n",
       "    .dataframe tbody tr th {\n",
       "        vertical-align: top;\n",
       "    }\n",
       "\n",
       "    .dataframe thead th {\n",
       "        text-align: right;\n",
       "    }\n",
       "</style>\n",
       "<table border=\"1\" class=\"dataframe\">\n",
       "  <thead>\n",
       "    <tr style=\"text-align: right;\">\n",
       "      <th></th>\n",
       "      <th>datetime</th>\n",
       "      <th>headline</th>\n",
       "      <th>keywords</th>\n",
       "    </tr>\n",
       "  </thead>\n",
       "  <tbody>\n",
       "    <tr>\n",
       "      <th>0</th>\n",
       "      <td>2021-04-29T09:00:30+0000</td>\n",
       "      <td>The Price Is Right, And Rising</td>\n",
       "      <td>[United States Economy, Prices (Fares, Fees an...</td>\n",
       "    </tr>\n",
       "    <tr>\n",
       "      <th>1</th>\n",
       "      <td>2021-06-04T23:07:11+0000</td>\n",
       "      <td>Biden Says Benefits End In 90 Days</td>\n",
       "      <td>[Unemployment Insurance, United States Economy...</td>\n",
       "    </tr>\n",
       "    <tr>\n",
       "      <th>2</th>\n",
       "      <td>2021-06-18T16:38:06+0000</td>\n",
       "      <td>Unease on Wall Street Stretches to a Fourth Day</td>\n",
       "      <td>[Stocks and Bonds, United States Economy, Stan...</td>\n",
       "    </tr>\n",
       "    <tr>\n",
       "      <th>3</th>\n",
       "      <td>2021-06-30T07:00:11+0000</td>\n",
       "      <td>Fed Officials Less in Step As Costs Rise</td>\n",
       "      <td>[Inflation (Economics), United States Economy,...</td>\n",
       "    </tr>\n",
       "    <tr>\n",
       "      <th>4</th>\n",
       "      <td>2021-07-02T09:06:23+0000</td>\n",
       "      <td>Hiring Increases and Wages Jump as U.S. Rebounds</td>\n",
       "      <td>[United States Economy, Labor and Jobs, Wages ...</td>\n",
       "    </tr>\n",
       "  </tbody>\n",
       "</table>\n",
       "</div>"
      ],
      "text/plain": [
       "                   datetime                                          headline  \\\n",
       "0  2021-04-29T09:00:30+0000                    The Price Is Right, And Rising   \n",
       "1  2021-06-04T23:07:11+0000                Biden Says Benefits End In 90 Days   \n",
       "2  2021-06-18T16:38:06+0000   Unease on Wall Street Stretches to a Fourth Day   \n",
       "3  2021-06-30T07:00:11+0000          Fed Officials Less in Step As Costs Rise   \n",
       "4  2021-07-02T09:06:23+0000  Hiring Increases and Wages Jump as U.S. Rebounds   \n",
       "\n",
       "                                            keywords  \n",
       "0  [United States Economy, Prices (Fares, Fees an...  \n",
       "1  [Unemployment Insurance, United States Economy...  \n",
       "2  [Stocks and Bonds, United States Economy, Stan...  \n",
       "3  [Inflation (Economics), United States Economy,...  \n",
       "4  [United States Economy, Labor and Jobs, Wages ...  "
      ]
     },
     "metadata": {},
     "output_type": "display_data"
    }
   ],
   "source": [
    "# Read in the 2021 US Economy Headlines\n",
    "econ_2021_df = pd.read_csv(\"data/us_economy_headlines_2021.csv\")\n",
    "econ_2021_df[\"keywords\"] = econ_2021_df[\"keywords\"].apply(listify)\n",
    "\n",
    "display(econ_2021_df.info())\n",
    "display(econ_2021_df.head())\n"
   ]
  },
  {
   "cell_type": "code",
   "execution_count": 20,
   "metadata": {},
   "outputs": [
    {
     "name": "stdout",
     "output_type": "stream",
     "text": [
      "<class 'pandas.core.frame.DataFrame'>\n",
      "RangeIndex: 332 entries, 0 to 331\n",
      "Data columns (total 3 columns):\n",
      " #   Column    Non-Null Count  Dtype \n",
      "---  ------    --------------  ----- \n",
      " 0   datetime  332 non-null    object\n",
      " 1   headline  332 non-null    object\n",
      " 2   keywords  332 non-null    object\n",
      "dtypes: object(3)\n",
      "memory usage: 7.9+ KB\n"
     ]
    },
    {
     "data": {
      "text/plain": [
       "None"
      ]
     },
     "metadata": {},
     "output_type": "display_data"
    },
    {
     "data": {
      "text/html": [
       "<div>\n",
       "<style scoped>\n",
       "    .dataframe tbody tr th:only-of-type {\n",
       "        vertical-align: middle;\n",
       "    }\n",
       "\n",
       "    .dataframe tbody tr th {\n",
       "        vertical-align: top;\n",
       "    }\n",
       "\n",
       "    .dataframe thead th {\n",
       "        text-align: right;\n",
       "    }\n",
       "</style>\n",
       "<table border=\"1\" class=\"dataframe\">\n",
       "  <thead>\n",
       "    <tr style=\"text-align: right;\">\n",
       "      <th></th>\n",
       "      <th>datetime</th>\n",
       "      <th>headline</th>\n",
       "      <th>keywords</th>\n",
       "    </tr>\n",
       "  </thead>\n",
       "  <tbody>\n",
       "    <tr>\n",
       "      <th>0</th>\n",
       "      <td>2022-01-25T10:00:23+0000</td>\n",
       "      <td>Timing of Fed Policy Pivot Nettles Critics</td>\n",
       "      <td>[United States Economy, Inflation (Economics),...</td>\n",
       "    </tr>\n",
       "    <tr>\n",
       "      <th>1</th>\n",
       "      <td>2022-11-10T10:05:10+0000</td>\n",
       "      <td>Inflation Starting to Taper In Positive Sign f...</td>\n",
       "      <td>[United States Economy, Inflation (Economics),...</td>\n",
       "    </tr>\n",
       "    <tr>\n",
       "      <th>2</th>\n",
       "      <td>2022-07-11T21:23:44+0000</td>\n",
       "      <td>As Prices Rise, Rental Market Is Hard to Exit</td>\n",
       "      <td>[Renting and Leasing (Real Estate), Real Estat...</td>\n",
       "    </tr>\n",
       "    <tr>\n",
       "      <th>3</th>\n",
       "      <td>2022-06-29T09:00:43+0000</td>\n",
       "      <td>House Sales Have Cooled Significantly In Just ...</td>\n",
       "      <td>[Real Estate and Housing (Residential), Mortga...</td>\n",
       "    </tr>\n",
       "    <tr>\n",
       "      <th>4</th>\n",
       "      <td>2022-09-27T15:17:26+0000</td>\n",
       "      <td>With Rents Quickly Rising,  How Are Landlords ...</td>\n",
       "      <td>[Landlords, Prices (Fares, Fees and Rates), Re...</td>\n",
       "    </tr>\n",
       "  </tbody>\n",
       "</table>\n",
       "</div>"
      ],
      "text/plain": [
       "                   datetime  \\\n",
       "0  2022-01-25T10:00:23+0000   \n",
       "1  2022-11-10T10:05:10+0000   \n",
       "2  2022-07-11T21:23:44+0000   \n",
       "3  2022-06-29T09:00:43+0000   \n",
       "4  2022-09-27T15:17:26+0000   \n",
       "\n",
       "                                            headline  \\\n",
       "0         Timing of Fed Policy Pivot Nettles Critics   \n",
       "1  Inflation Starting to Taper In Positive Sign f...   \n",
       "2      As Prices Rise, Rental Market Is Hard to Exit   \n",
       "3  House Sales Have Cooled Significantly In Just ...   \n",
       "4  With Rents Quickly Rising,  How Are Landlords ...   \n",
       "\n",
       "                                            keywords  \n",
       "0  [United States Economy, Inflation (Economics),...  \n",
       "1  [United States Economy, Inflation (Economics),...  \n",
       "2  [Renting and Leasing (Real Estate), Real Estat...  \n",
       "3  [Real Estate and Housing (Residential), Mortga...  \n",
       "4  [Landlords, Prices (Fares, Fees and Rates), Re...  "
      ]
     },
     "metadata": {},
     "output_type": "display_data"
    }
   ],
   "source": [
    "# Read in the 2022 US Economy Headlines\n",
    "econ_2022_df = pd.read_csv(\"data/us_economy_headlines_2022.csv\")\n",
    "econ_2022_df[\"keywords\"] = econ_2022_df[\"keywords\"].apply(listify)\n",
    "\n",
    "display(econ_2022_df.info())\n",
    "display(econ_2022_df.head())"
   ]
  },
  {
   "cell_type": "code",
   "execution_count": 21,
   "metadata": {},
   "outputs": [
    {
     "name": "stdout",
     "output_type": "stream",
     "text": [
      "<class 'pandas.core.frame.DataFrame'>\n",
      "RangeIndex: 263 entries, 0 to 262\n",
      "Data columns (total 3 columns):\n",
      " #   Column    Non-Null Count  Dtype \n",
      "---  ------    --------------  ----- \n",
      " 0   datetime  263 non-null    object\n",
      " 1   headline  263 non-null    object\n",
      " 2   keywords  263 non-null    object\n",
      "dtypes: object(3)\n",
      "memory usage: 6.3+ KB\n"
     ]
    },
    {
     "data": {
      "text/plain": [
       "None"
      ]
     },
     "metadata": {},
     "output_type": "display_data"
    },
    {
     "data": {
      "text/html": [
       "<div>\n",
       "<style scoped>\n",
       "    .dataframe tbody tr th:only-of-type {\n",
       "        vertical-align: middle;\n",
       "    }\n",
       "\n",
       "    .dataframe tbody tr th {\n",
       "        vertical-align: top;\n",
       "    }\n",
       "\n",
       "    .dataframe thead th {\n",
       "        text-align: right;\n",
       "    }\n",
       "</style>\n",
       "<table border=\"1\" class=\"dataframe\">\n",
       "  <thead>\n",
       "    <tr style=\"text-align: right;\">\n",
       "      <th></th>\n",
       "      <th>datetime</th>\n",
       "      <th>headline</th>\n",
       "      <th>keywords</th>\n",
       "    </tr>\n",
       "  </thead>\n",
       "  <tbody>\n",
       "    <tr>\n",
       "      <th>0</th>\n",
       "      <td>2023-03-22T22:56:22+0000</td>\n",
       "      <td>Policymakers To Consider Tighter Rules</td>\n",
       "      <td>[Regulation and Deregulation of Industry, Bank...</td>\n",
       "    </tr>\n",
       "    <tr>\n",
       "      <th>1</th>\n",
       "      <td>2023-03-16T16:31:12+0000</td>\n",
       "      <td>Low Rates Are Over. Now What?</td>\n",
       "      <td>[Interest Rates, Banking and Financial Institu...</td>\n",
       "    </tr>\n",
       "    <tr>\n",
       "      <th>2</th>\n",
       "      <td>2023-01-06T08:00:13+0000</td>\n",
       "      <td>How Even a Soft Landing May Have Its Downside</td>\n",
       "      <td>[United States Economy, Recession and Depressi...</td>\n",
       "    </tr>\n",
       "    <tr>\n",
       "      <th>3</th>\n",
       "      <td>2023-01-20T10:00:38+0000</td>\n",
       "      <td>New Orleans Port Positions Itself  For a Reord...</td>\n",
       "      <td>[Ports, Economic Conditions and Trends, Intern...</td>\n",
       "    </tr>\n",
       "    <tr>\n",
       "      <th>4</th>\n",
       "      <td>2023-07-17T18:20:03+0000</td>\n",
       "      <td>Jobs Have Roared Back, But Is Trend Sustainable?</td>\n",
       "      <td>[Banking and Financial Institutions, Labor and...</td>\n",
       "    </tr>\n",
       "  </tbody>\n",
       "</table>\n",
       "</div>"
      ],
      "text/plain": [
       "                   datetime  \\\n",
       "0  2023-03-22T22:56:22+0000   \n",
       "1  2023-03-16T16:31:12+0000   \n",
       "2  2023-01-06T08:00:13+0000   \n",
       "3  2023-01-20T10:00:38+0000   \n",
       "4  2023-07-17T18:20:03+0000   \n",
       "\n",
       "                                            headline  \\\n",
       "0           Policymakers To Consider Tighter Rules     \n",
       "1                      Low Rates Are Over. Now What?   \n",
       "2      How Even a Soft Landing May Have Its Downside   \n",
       "3  New Orleans Port Positions Itself  For a Reord...   \n",
       "4   Jobs Have Roared Back, But Is Trend Sustainable?   \n",
       "\n",
       "                                            keywords  \n",
       "0  [Regulation and Deregulation of Industry, Bank...  \n",
       "1  [Interest Rates, Banking and Financial Institu...  \n",
       "2  [United States Economy, Recession and Depressi...  \n",
       "3  [Ports, Economic Conditions and Trends, Intern...  \n",
       "4  [Banking and Financial Institutions, Labor and...  "
      ]
     },
     "metadata": {},
     "output_type": "display_data"
    }
   ],
   "source": [
    "# Read in the 2023 US Economy Headlines\n",
    "econ_2023_df = pd.read_csv(\"data/us_economy_headlines_2023.csv\")\n",
    "econ_2023_df[\"keywords\"] = econ_2023_df[\"keywords\"].apply(listify)\n",
    "\n",
    "display(econ_2023_df.info())\n",
    "display(econ_2023_df.head())"
   ]
  },
  {
   "cell_type": "code",
   "execution_count": 22,
   "metadata": {},
   "outputs": [
    {
     "name": "stdout",
     "output_type": "stream",
     "text": [
      "<class 'pandas.core.frame.DataFrame'>\n",
      "RangeIndex: 59 entries, 0 to 58\n",
      "Data columns (total 3 columns):\n",
      " #   Column    Non-Null Count  Dtype \n",
      "---  ------    --------------  ----- \n",
      " 0   datetime  59 non-null     object\n",
      " 1   headline  59 non-null     object\n",
      " 2   keywords  59 non-null     object\n",
      "dtypes: object(3)\n",
      "memory usage: 1.5+ KB\n"
     ]
    },
    {
     "data": {
      "text/plain": [
       "None"
      ]
     },
     "metadata": {},
     "output_type": "display_data"
    },
    {
     "data": {
      "text/html": [
       "<div>\n",
       "<style scoped>\n",
       "    .dataframe tbody tr th:only-of-type {\n",
       "        vertical-align: middle;\n",
       "    }\n",
       "\n",
       "    .dataframe tbody tr th {\n",
       "        vertical-align: top;\n",
       "    }\n",
       "\n",
       "    .dataframe thead th {\n",
       "        text-align: right;\n",
       "    }\n",
       "</style>\n",
       "<table border=\"1\" class=\"dataframe\">\n",
       "  <thead>\n",
       "    <tr style=\"text-align: right;\">\n",
       "      <th></th>\n",
       "      <th>datetime</th>\n",
       "      <th>headline</th>\n",
       "      <th>keywords</th>\n",
       "    </tr>\n",
       "  </thead>\n",
       "  <tbody>\n",
       "    <tr>\n",
       "      <th>0</th>\n",
       "      <td>2024-04-12T11:37:47+0000</td>\n",
       "      <td>JPMorgan May Face Headwinds</td>\n",
       "      <td>[Banking and Financial Institutions, United St...</td>\n",
       "    </tr>\n",
       "    <tr>\n",
       "      <th>1</th>\n",
       "      <td>2024-03-05T10:36:33+0000</td>\n",
       "      <td>Better Mood On Economy, Not for Biden</td>\n",
       "      <td>[Polls and Public Opinion, United States Econo...</td>\n",
       "    </tr>\n",
       "    <tr>\n",
       "      <th>2</th>\n",
       "      <td>2024-03-20T09:06:22+0000</td>\n",
       "      <td>Federal Reserve Leaves Interest Rates Unchanged</td>\n",
       "      <td>[Interest Rates, United States Economy, Inflat...</td>\n",
       "    </tr>\n",
       "    <tr>\n",
       "      <th>3</th>\n",
       "      <td>2024-02-05T10:01:45+0000</td>\n",
       "      <td>Why Are Americans  Anxious in Spite Of a Good ...</td>\n",
       "      <td>[United States Economy, Presidential Election ...</td>\n",
       "    </tr>\n",
       "    <tr>\n",
       "      <th>4</th>\n",
       "      <td>2024-01-19T21:11:26+0000</td>\n",
       "      <td>Stock Market Climbs to a New Height</td>\n",
       "      <td>[Standard &amp; Poor's 500-Stock Index, Banking an...</td>\n",
       "    </tr>\n",
       "  </tbody>\n",
       "</table>\n",
       "</div>"
      ],
      "text/plain": [
       "                   datetime  \\\n",
       "0  2024-04-12T11:37:47+0000   \n",
       "1  2024-03-05T10:36:33+0000   \n",
       "2  2024-03-20T09:06:22+0000   \n",
       "3  2024-02-05T10:01:45+0000   \n",
       "4  2024-01-19T21:11:26+0000   \n",
       "\n",
       "                                            headline  \\\n",
       "0                        JPMorgan May Face Headwinds   \n",
       "1              Better Mood On Economy, Not for Biden   \n",
       "2    Federal Reserve Leaves Interest Rates Unchanged   \n",
       "3  Why Are Americans  Anxious in Spite Of a Good ...   \n",
       "4                Stock Market Climbs to a New Height   \n",
       "\n",
       "                                            keywords  \n",
       "0  [Banking and Financial Institutions, United St...  \n",
       "1  [Polls and Public Opinion, United States Econo...  \n",
       "2  [Interest Rates, United States Economy, Inflat...  \n",
       "3  [United States Economy, Presidential Election ...  \n",
       "4  [Standard & Poor's 500-Stock Index, Banking an...  "
      ]
     },
     "metadata": {},
     "output_type": "display_data"
    }
   ],
   "source": [
    "# Read in the 2024 US Economy Headlines\n",
    "econ_2024_df = pd.read_csv(\"data/us_economy_headlines_2024.csv\")\n",
    "econ_2024_df[\"keywords\"] = econ_2024_df[\"keywords\"].apply(listify)\n",
    "\n",
    "display(econ_2024_df.info())\n",
    "display(econ_2024_df.head())\n",
    "\n"
   ]
  },
  {
   "cell_type": "code",
   "execution_count": 28,
   "metadata": {},
   "outputs": [
    {
     "name": "stdout",
     "output_type": "stream",
     "text": [
      "2019\n"
     ]
    },
    {
     "data": {
      "text/plain": [
       "keywords\n",
       "United States Politics and Government    114\n",
       "International Trade and World Market     107\n",
       "Customs (Tariff)                          70\n",
       "Interest Rates                            65\n",
       "United States International Relations     57\n",
       "Name: count, dtype: int64"
      ]
     },
     "metadata": {},
     "output_type": "display_data"
    },
    {
     "name": "stdout",
     "output_type": "stream",
     "text": [
      "2020\n"
     ]
    },
    {
     "data": {
      "text/plain": [
       "keywords\n",
       "Coronavirus (2019-nCoV)                                      319\n",
       "United States Politics and Government                        176\n",
       "Coronavirus Aid, Relief, and Economic Security Act (2020)    142\n",
       "Unemployment                                                 126\n",
       "Labor and Jobs                                               109\n",
       "Name: count, dtype: int64"
      ]
     },
     "metadata": {},
     "output_type": "display_data"
    },
    {
     "name": "stdout",
     "output_type": "stream",
     "text": [
      "2021\n"
     ]
    },
    {
     "data": {
      "text/plain": [
       "keywords\n",
       "United States Politics and Government    192\n",
       "Coronavirus (2019-nCoV)                  139\n",
       "Labor and Jobs                           126\n",
       "Inflation (Economics)                    107\n",
       "Stimulus (Economic)                       95\n",
       "Name: count, dtype: int64"
      ]
     },
     "metadata": {},
     "output_type": "display_data"
    },
    {
     "name": "stdout",
     "output_type": "stream",
     "text": [
      "2022\n"
     ]
    },
    {
     "data": {
      "text/plain": [
       "keywords\n",
       "Inflation (Economics)                    215\n",
       "Prices (Fares, Fees and Rates)           136\n",
       "Interest Rates                           124\n",
       "United States Politics and Government     78\n",
       "Labor and Jobs                            73\n",
       "Name: count, dtype: int64"
      ]
     },
     "metadata": {},
     "output_type": "display_data"
    },
    {
     "name": "stdout",
     "output_type": "stream",
     "text": [
      "2023\n"
     ]
    },
    {
     "data": {
      "text/plain": [
       "keywords\n",
       "Inflation (Economics)                    128\n",
       "Interest Rates                           110\n",
       "United States Politics and Government     71\n",
       "Labor and Jobs                            68\n",
       "Banking and Financial Institutions        59\n",
       "Name: count, dtype: int64"
      ]
     },
     "metadata": {},
     "output_type": "display_data"
    },
    {
     "name": "stdout",
     "output_type": "stream",
     "text": [
      "2024\n"
     ]
    },
    {
     "data": {
      "text/plain": [
       "keywords\n",
       "Inflation (Economics)                    30\n",
       "Interest Rates                           28\n",
       "Prices (Fares, Fees and Rates)           22\n",
       "Labor and Jobs                           19\n",
       "United States Politics and Government    15\n",
       "Name: count, dtype: int64"
      ]
     },
     "metadata": {},
     "output_type": "display_data"
    }
   ],
   "source": [
    "# What are the top five keywords for each year\n",
    "top5_2019 = get_top5(econ_2019_df)\n",
    "top5_2020 = get_top5(econ_2020_df)\n",
    "top5_2021 = get_top5(econ_2021_df)\n",
    "top5_2022 = get_top5(econ_2022_df)\n",
    "top5_2023 = get_top5(econ_2023_df)\n",
    "top5_2024 = get_top5(econ_2024_df)\n",
    "\n",
    "print(\"2019\")\n",
    "display(top5_2019)\n",
    "\n",
    "print(\"2020\")\n",
    "display(top5_2020)\n",
    "\n",
    "print(\"2021\")\n",
    "display(top5_2021)\n",
    "\n",
    "print(\"2022\")\n",
    "display(top5_2022)\n",
    "\n",
    "print(\"2023\")\n",
    "display(top5_2023)\n",
    "\n",
    "print(\"2024\")\n",
    "display(top5_2024)"
   ]
  }
 ],
 "metadata": {
  "kernelspec": {
   "display_name": "Python 3 (ipykernel)",
   "language": "python",
   "name": "python3"
  },
  "language_info": {
   "codemirror_mode": {
    "name": "ipython",
    "version": 3
   },
   "file_extension": ".py",
   "mimetype": "text/x-python",
   "name": "python",
   "nbconvert_exporter": "python",
   "pygments_lexer": "ipython3",
   "version": "3.10.13"
  }
 },
 "nbformat": 4,
 "nbformat_minor": 4
}
