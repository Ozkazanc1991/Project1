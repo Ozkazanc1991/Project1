{
 "cells": [
  {
   "cell_type": "code",
   "execution_count": 1,
   "metadata": {},
   "outputs": [],
   "source": [
    "# Import Libraries and Dependencies\n",
    "import pandas as pd"
   ]
  },
  {
   "cell_type": "markdown",
   "metadata": {},
   "source": [
    "### 1. Combine and Clean the Data\n",
    "#### Import data"
   ]
  },
  {
   "cell_type": "code",
   "execution_count": 3,
   "metadata": {},
   "outputs": [
    {
     "data": {
      "text/html": [
       "<div>\n",
       "<style scoped>\n",
       "    .dataframe tbody tr th:only-of-type {\n",
       "        vertical-align: middle;\n",
       "    }\n",
       "\n",
       "    .dataframe tbody tr th {\n",
       "        vertical-align: top;\n",
       "    }\n",
       "\n",
       "    .dataframe thead th {\n",
       "        text-align: right;\n",
       "    }\n",
       "</style>\n",
       "<table border=\"1\" class=\"dataframe\">\n",
       "  <thead>\n",
       "    <tr style=\"text-align: right;\">\n",
       "      <th></th>\n",
       "      <th>Date</th>\n",
       "      <th>Open</th>\n",
       "      <th>High</th>\n",
       "      <th>Low</th>\n",
       "      <th>Close</th>\n",
       "      <th>Adj Close</th>\n",
       "      <th>Volume</th>\n",
       "    </tr>\n",
       "  </thead>\n",
       "  <tbody>\n",
       "    <tr>\n",
       "      <th>0</th>\n",
       "      <td>2019-04-11</td>\n",
       "      <td>7621.399902</td>\n",
       "      <td>7621.399902</td>\n",
       "      <td>7580.709961</td>\n",
       "      <td>7594.890137</td>\n",
       "      <td>7594.890137</td>\n",
       "      <td>1969480000</td>\n",
       "    </tr>\n",
       "    <tr>\n",
       "      <th>1</th>\n",
       "      <td>2019-04-12</td>\n",
       "      <td>7624.149902</td>\n",
       "      <td>7630.520020</td>\n",
       "      <td>7596.560059</td>\n",
       "      <td>7628.149902</td>\n",
       "      <td>7628.149902</td>\n",
       "      <td>1968900000</td>\n",
       "    </tr>\n",
       "    <tr>\n",
       "      <th>2</th>\n",
       "      <td>2019-04-15</td>\n",
       "      <td>7630.600098</td>\n",
       "      <td>7636.799805</td>\n",
       "      <td>7578.540039</td>\n",
       "      <td>7629.120117</td>\n",
       "      <td>7629.120117</td>\n",
       "      <td>1827710000</td>\n",
       "    </tr>\n",
       "    <tr>\n",
       "      <th>3</th>\n",
       "      <td>2019-04-16</td>\n",
       "      <td>7651.189941</td>\n",
       "      <td>7670.399902</td>\n",
       "      <td>7631.640137</td>\n",
       "      <td>7654.729980</td>\n",
       "      <td>7654.729980</td>\n",
       "      <td>2102740000</td>\n",
       "    </tr>\n",
       "    <tr>\n",
       "      <th>4</th>\n",
       "      <td>2019-04-17</td>\n",
       "      <td>7705.319824</td>\n",
       "      <td>7715.069824</td>\n",
       "      <td>7659.850098</td>\n",
       "      <td>7680.720215</td>\n",
       "      <td>7680.720215</td>\n",
       "      <td>2317330000</td>\n",
       "    </tr>\n",
       "  </tbody>\n",
       "</table>\n",
       "</div>"
      ],
      "text/plain": [
       "         Date         Open         High          Low        Close  \\\n",
       "0  2019-04-11  7621.399902  7621.399902  7580.709961  7594.890137   \n",
       "1  2019-04-12  7624.149902  7630.520020  7596.560059  7628.149902   \n",
       "2  2019-04-15  7630.600098  7636.799805  7578.540039  7629.120117   \n",
       "3  2019-04-16  7651.189941  7670.399902  7631.640137  7654.729980   \n",
       "4  2019-04-17  7705.319824  7715.069824  7659.850098  7680.720215   \n",
       "\n",
       "     Adj Close      Volume  \n",
       "0  7594.890137  1969480000  \n",
       "1  7628.149902  1968900000  \n",
       "2  7629.120117  1827710000  \n",
       "3  7654.729980  2102740000  \n",
       "4  7680.720215  2317330000  "
      ]
     },
     "execution_count": 3,
     "metadata": {},
     "output_type": "execute_result"
    }
   ],
   "source": [
    "# Read the CSV files into DataFrames.\n",
    "ndx_df = pd.read_csv(\"data/NDX.csv\")\n",
    "ndx_df.head()"
   ]
  }
 ],
 "metadata": {
  "kernelspec": {
   "display_name": "Python 3 (ipykernel)",
   "language": "python",
   "name": "python3"
  },
  "language_info": {
   "codemirror_mode": {
    "name": "ipython",
    "version": 3
   },
   "file_extension": ".py",
   "mimetype": "text/x-python",
   "name": "python",
   "nbconvert_exporter": "python",
   "pygments_lexer": "ipython3",
   "version": "3.10.13"
  }
 },
 "nbformat": 4,
 "nbformat_minor": 4
}
